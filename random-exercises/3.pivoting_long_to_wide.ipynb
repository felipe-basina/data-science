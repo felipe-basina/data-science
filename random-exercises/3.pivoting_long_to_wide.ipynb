{
 "cells": [
  {
   "cell_type": "code",
   "execution_count": 2,
   "outputs": [],
   "source": [
    "import pandas as pd"
   ],
   "metadata": {
    "collapsed": false
   }
  },
  {
   "cell_type": "code",
   "execution_count": 3,
   "outputs": [],
   "source": [
    "data = pd.read_csv('files/macrodata.csv')"
   ],
   "metadata": {
    "collapsed": false
   }
  },
  {
   "cell_type": "code",
   "execution_count": 4,
   "outputs": [
    {
     "data": {
      "text/plain": "   year  quarter   realgdp  realcons  realinv  realgovt  realdpi    cpi  \\\n0  1959        1  2710.349    1707.4  286.898   470.045   1886.9  28.98   \n1  1959        2  2778.801    1733.7  310.859   481.301   1919.7  29.15   \n2  1959        3  2775.488    1751.8  289.226   491.260   1916.4  29.35   \n3  1959        4  2785.204    1753.7  299.356   484.052   1931.3  29.37   \n4  1960        1  2847.699    1770.5  331.722   462.199   1955.5  29.54   \n\n      m1  tbilrate  unemp      pop  infl  realint  \n0  139.7      2.82    5.8  177.146  0.00     0.00  \n1  141.7      3.08    5.1  177.830  2.34     0.74  \n2  140.5      3.82    5.3  178.657  2.74     1.09  \n3  140.0      4.33    5.6  179.386  0.27     4.06  \n4  139.6      3.50    5.2  180.007  2.31     1.19  ",
      "text/html": "<div>\n<style scoped>\n    .dataframe tbody tr th:only-of-type {\n        vertical-align: middle;\n    }\n\n    .dataframe tbody tr th {\n        vertical-align: top;\n    }\n\n    .dataframe thead th {\n        text-align: right;\n    }\n</style>\n<table border=\"1\" class=\"dataframe\">\n  <thead>\n    <tr style=\"text-align: right;\">\n      <th></th>\n      <th>year</th>\n      <th>quarter</th>\n      <th>realgdp</th>\n      <th>realcons</th>\n      <th>realinv</th>\n      <th>realgovt</th>\n      <th>realdpi</th>\n      <th>cpi</th>\n      <th>m1</th>\n      <th>tbilrate</th>\n      <th>unemp</th>\n      <th>pop</th>\n      <th>infl</th>\n      <th>realint</th>\n    </tr>\n  </thead>\n  <tbody>\n    <tr>\n      <th>0</th>\n      <td>1959</td>\n      <td>1</td>\n      <td>2710.349</td>\n      <td>1707.4</td>\n      <td>286.898</td>\n      <td>470.045</td>\n      <td>1886.9</td>\n      <td>28.98</td>\n      <td>139.7</td>\n      <td>2.82</td>\n      <td>5.8</td>\n      <td>177.146</td>\n      <td>0.00</td>\n      <td>0.00</td>\n    </tr>\n    <tr>\n      <th>1</th>\n      <td>1959</td>\n      <td>2</td>\n      <td>2778.801</td>\n      <td>1733.7</td>\n      <td>310.859</td>\n      <td>481.301</td>\n      <td>1919.7</td>\n      <td>29.15</td>\n      <td>141.7</td>\n      <td>3.08</td>\n      <td>5.1</td>\n      <td>177.830</td>\n      <td>2.34</td>\n      <td>0.74</td>\n    </tr>\n    <tr>\n      <th>2</th>\n      <td>1959</td>\n      <td>3</td>\n      <td>2775.488</td>\n      <td>1751.8</td>\n      <td>289.226</td>\n      <td>491.260</td>\n      <td>1916.4</td>\n      <td>29.35</td>\n      <td>140.5</td>\n      <td>3.82</td>\n      <td>5.3</td>\n      <td>178.657</td>\n      <td>2.74</td>\n      <td>1.09</td>\n    </tr>\n    <tr>\n      <th>3</th>\n      <td>1959</td>\n      <td>4</td>\n      <td>2785.204</td>\n      <td>1753.7</td>\n      <td>299.356</td>\n      <td>484.052</td>\n      <td>1931.3</td>\n      <td>29.37</td>\n      <td>140.0</td>\n      <td>4.33</td>\n      <td>5.6</td>\n      <td>179.386</td>\n      <td>0.27</td>\n      <td>4.06</td>\n    </tr>\n    <tr>\n      <th>4</th>\n      <td>1960</td>\n      <td>1</td>\n      <td>2847.699</td>\n      <td>1770.5</td>\n      <td>331.722</td>\n      <td>462.199</td>\n      <td>1955.5</td>\n      <td>29.54</td>\n      <td>139.6</td>\n      <td>3.50</td>\n      <td>5.2</td>\n      <td>180.007</td>\n      <td>2.31</td>\n      <td>1.19</td>\n    </tr>\n  </tbody>\n</table>\n</div>"
     },
     "execution_count": 4,
     "metadata": {},
     "output_type": "execute_result"
    }
   ],
   "source": [
    "data.head()"
   ],
   "metadata": {
    "collapsed": false
   }
  },
  {
   "cell_type": "code",
   "execution_count": 5,
   "outputs": [
    {
     "data": {
      "text/plain": "203"
     },
     "execution_count": 5,
     "metadata": {},
     "output_type": "execute_result"
    }
   ],
   "source": [
    "len(data)"
   ],
   "metadata": {
    "collapsed": false
   }
  },
  {
   "cell_type": "code",
   "execution_count": 6,
   "outputs": [],
   "source": [
    "periods = pd.PeriodIndex(year=data.year, quarter=data.quarter, name='date')"
   ],
   "metadata": {
    "collapsed": false
   }
  },
  {
   "cell_type": "code",
   "execution_count": 10,
   "outputs": [],
   "source": [
    "columns = pd.Index(['realgdp', 'infl', 'unemp'], name='item') # Pick some columns from full dataframe"
   ],
   "metadata": {
    "collapsed": false
   }
  },
  {
   "cell_type": "code",
   "execution_count": 8,
   "outputs": [],
   "source": [
    "data = data.reindex(columns=columns) # Create new dataframe with only specific columns"
   ],
   "metadata": {
    "collapsed": false
   }
  },
  {
   "cell_type": "code",
   "execution_count": 11,
   "outputs": [
    {
     "data": {
      "text/plain": "item   realgdp  infl  unemp\n0     2710.349  0.00    5.8\n1     2778.801  2.34    5.1\n2     2775.488  2.74    5.3\n3     2785.204  0.27    5.6\n4     2847.699  2.31    5.2",
      "text/html": "<div>\n<style scoped>\n    .dataframe tbody tr th:only-of-type {\n        vertical-align: middle;\n    }\n\n    .dataframe tbody tr th {\n        vertical-align: top;\n    }\n\n    .dataframe thead th {\n        text-align: right;\n    }\n</style>\n<table border=\"1\" class=\"dataframe\">\n  <thead>\n    <tr style=\"text-align: right;\">\n      <th>item</th>\n      <th>realgdp</th>\n      <th>infl</th>\n      <th>unemp</th>\n    </tr>\n  </thead>\n  <tbody>\n    <tr>\n      <th>0</th>\n      <td>2710.349</td>\n      <td>0.00</td>\n      <td>5.8</td>\n    </tr>\n    <tr>\n      <th>1</th>\n      <td>2778.801</td>\n      <td>2.34</td>\n      <td>5.1</td>\n    </tr>\n    <tr>\n      <th>2</th>\n      <td>2775.488</td>\n      <td>2.74</td>\n      <td>5.3</td>\n    </tr>\n    <tr>\n      <th>3</th>\n      <td>2785.204</td>\n      <td>0.27</td>\n      <td>5.6</td>\n    </tr>\n    <tr>\n      <th>4</th>\n      <td>2847.699</td>\n      <td>2.31</td>\n      <td>5.2</td>\n    </tr>\n  </tbody>\n</table>\n</div>"
     },
     "execution_count": 11,
     "metadata": {},
     "output_type": "execute_result"
    }
   ],
   "source": [
    "data.head()"
   ],
   "metadata": {
    "collapsed": false
   }
  },
  {
   "cell_type": "code",
   "execution_count": 12,
   "outputs": [
    {
     "data": {
      "text/plain": "RangeIndex(start=0, stop=203, step=1)"
     },
     "execution_count": 12,
     "metadata": {},
     "output_type": "execute_result"
    }
   ],
   "source": [
    "data.index"
   ],
   "metadata": {
    "collapsed": false
   }
  },
  {
   "cell_type": "code",
   "execution_count": 21,
   "outputs": [],
   "source": [
    "data.index = periods.to_timestamp('D', 'end') # Set the indexes values"
   ],
   "metadata": {
    "collapsed": false
   }
  },
  {
   "cell_type": "code",
   "execution_count": 24,
   "outputs": [
    {
     "data": {
      "text/plain": "DatetimeIndex(['1959-03-31 23:59:59.999999999',\n               '1959-06-30 23:59:59.999999999',\n               '1959-09-30 23:59:59.999999999',\n               '1959-12-31 23:59:59.999999999',\n               '1960-03-31 23:59:59.999999999',\n               '1960-06-30 23:59:59.999999999',\n               '1960-09-30 23:59:59.999999999',\n               '1960-12-31 23:59:59.999999999',\n               '1961-03-31 23:59:59.999999999',\n               '1961-06-30 23:59:59.999999999'],\n              dtype='datetime64[ns]', name='date', freq=None)"
     },
     "execution_count": 24,
     "metadata": {},
     "output_type": "execute_result"
    }
   ],
   "source": [
    "data.index[:10]"
   ],
   "metadata": {
    "collapsed": false
   }
  },
  {
   "cell_type": "code",
   "execution_count": 25,
   "outputs": [
    {
     "data": {
      "text/plain": "date                           item   \n1959-03-31 23:59:59.999999999  realgdp    2710.349\n                               infl          0.000\n                               unemp         5.800\n1959-06-30 23:59:59.999999999  realgdp    2778.801\n                               infl          2.340\ndtype: float64"
     },
     "execution_count": 25,
     "metadata": {},
     "output_type": "execute_result"
    }
   ],
   "source": [
    "data.stack().head() # Change row to columns (including headers); when doing so the hierarchical indexes vanishes"
   ],
   "metadata": {
    "collapsed": false
   }
  },
  {
   "cell_type": "code",
   "execution_count": 28,
   "outputs": [
    {
     "data": {
      "text/plain": "                           date     item         0\n0 1959-03-31 23:59:59.999999999  realgdp  2710.349\n1 1959-03-31 23:59:59.999999999     infl     0.000\n2 1959-03-31 23:59:59.999999999    unemp     5.800\n3 1959-06-30 23:59:59.999999999  realgdp  2778.801\n4 1959-06-30 23:59:59.999999999     infl     2.340",
      "text/html": "<div>\n<style scoped>\n    .dataframe tbody tr th:only-of-type {\n        vertical-align: middle;\n    }\n\n    .dataframe tbody tr th {\n        vertical-align: top;\n    }\n\n    .dataframe thead th {\n        text-align: right;\n    }\n</style>\n<table border=\"1\" class=\"dataframe\">\n  <thead>\n    <tr style=\"text-align: right;\">\n      <th></th>\n      <th>date</th>\n      <th>item</th>\n      <th>0</th>\n    </tr>\n  </thead>\n  <tbody>\n    <tr>\n      <th>0</th>\n      <td>1959-03-31 23:59:59.999999999</td>\n      <td>realgdp</td>\n      <td>2710.349</td>\n    </tr>\n    <tr>\n      <th>1</th>\n      <td>1959-03-31 23:59:59.999999999</td>\n      <td>infl</td>\n      <td>0.000</td>\n    </tr>\n    <tr>\n      <th>2</th>\n      <td>1959-03-31 23:59:59.999999999</td>\n      <td>unemp</td>\n      <td>5.800</td>\n    </tr>\n    <tr>\n      <th>3</th>\n      <td>1959-06-30 23:59:59.999999999</td>\n      <td>realgdp</td>\n      <td>2778.801</td>\n    </tr>\n    <tr>\n      <th>4</th>\n      <td>1959-06-30 23:59:59.999999999</td>\n      <td>infl</td>\n      <td>2.340</td>\n    </tr>\n  </tbody>\n</table>\n</div>"
     },
     "execution_count": 28,
     "metadata": {},
     "output_type": "execute_result"
    }
   ],
   "source": [
    "data.stack().reset_index().head() # Applying 'reset_index' brings back the hierarchical indexes"
   ],
   "metadata": {
    "collapsed": false
   }
  },
  {
   "cell_type": "code",
   "execution_count": 29,
   "outputs": [
    {
     "data": {
      "text/plain": "                             date     item      value\n0   1959-03-31 23:59:59.999999999  realgdp   2710.349\n1   1959-03-31 23:59:59.999999999     infl      0.000\n2   1959-03-31 23:59:59.999999999    unemp      5.800\n3   1959-06-30 23:59:59.999999999  realgdp   2778.801\n4   1959-06-30 23:59:59.999999999     infl      2.340\n..                            ...      ...        ...\n604 2009-06-30 23:59:59.999999999     infl      3.370\n605 2009-06-30 23:59:59.999999999    unemp      9.200\n606 2009-09-30 23:59:59.999999999  realgdp  12990.341\n607 2009-09-30 23:59:59.999999999     infl      3.560\n608 2009-09-30 23:59:59.999999999    unemp      9.600\n\n[609 rows x 3 columns]",
      "text/html": "<div>\n<style scoped>\n    .dataframe tbody tr th:only-of-type {\n        vertical-align: middle;\n    }\n\n    .dataframe tbody tr th {\n        vertical-align: top;\n    }\n\n    .dataframe thead th {\n        text-align: right;\n    }\n</style>\n<table border=\"1\" class=\"dataframe\">\n  <thead>\n    <tr style=\"text-align: right;\">\n      <th></th>\n      <th>date</th>\n      <th>item</th>\n      <th>value</th>\n    </tr>\n  </thead>\n  <tbody>\n    <tr>\n      <th>0</th>\n      <td>1959-03-31 23:59:59.999999999</td>\n      <td>realgdp</td>\n      <td>2710.349</td>\n    </tr>\n    <tr>\n      <th>1</th>\n      <td>1959-03-31 23:59:59.999999999</td>\n      <td>infl</td>\n      <td>0.000</td>\n    </tr>\n    <tr>\n      <th>2</th>\n      <td>1959-03-31 23:59:59.999999999</td>\n      <td>unemp</td>\n      <td>5.800</td>\n    </tr>\n    <tr>\n      <th>3</th>\n      <td>1959-06-30 23:59:59.999999999</td>\n      <td>realgdp</td>\n      <td>2778.801</td>\n    </tr>\n    <tr>\n      <th>4</th>\n      <td>1959-06-30 23:59:59.999999999</td>\n      <td>infl</td>\n      <td>2.340</td>\n    </tr>\n    <tr>\n      <th>...</th>\n      <td>...</td>\n      <td>...</td>\n      <td>...</td>\n    </tr>\n    <tr>\n      <th>604</th>\n      <td>2009-06-30 23:59:59.999999999</td>\n      <td>infl</td>\n      <td>3.370</td>\n    </tr>\n    <tr>\n      <th>605</th>\n      <td>2009-06-30 23:59:59.999999999</td>\n      <td>unemp</td>\n      <td>9.200</td>\n    </tr>\n    <tr>\n      <th>606</th>\n      <td>2009-09-30 23:59:59.999999999</td>\n      <td>realgdp</td>\n      <td>12990.341</td>\n    </tr>\n    <tr>\n      <th>607</th>\n      <td>2009-09-30 23:59:59.999999999</td>\n      <td>infl</td>\n      <td>3.560</td>\n    </tr>\n    <tr>\n      <th>608</th>\n      <td>2009-09-30 23:59:59.999999999</td>\n      <td>unemp</td>\n      <td>9.600</td>\n    </tr>\n  </tbody>\n</table>\n<p>609 rows × 3 columns</p>\n</div>"
     },
     "execution_count": 29,
     "metadata": {},
     "output_type": "execute_result"
    }
   ],
   "source": [
    "data.stack().reset_index().rename(columns={0: 'value'})"
   ],
   "metadata": {
    "collapsed": false
   }
  },
  {
   "cell_type": "code",
   "execution_count": 26,
   "outputs": [],
   "source": [
    "ldata = data.stack().reset_index().rename(columns={0: 'value'}) # Creating the so-called 'long format'"
   ],
   "metadata": {
    "collapsed": false
   }
  },
  {
   "cell_type": "code",
   "execution_count": 27,
   "outputs": [
    {
     "data": {
      "text/plain": "                           date     item     value\n0 1959-03-31 23:59:59.999999999  realgdp  2710.349\n1 1959-03-31 23:59:59.999999999     infl     0.000\n2 1959-03-31 23:59:59.999999999    unemp     5.800\n3 1959-06-30 23:59:59.999999999  realgdp  2778.801\n4 1959-06-30 23:59:59.999999999     infl     2.340",
      "text/html": "<div>\n<style scoped>\n    .dataframe tbody tr th:only-of-type {\n        vertical-align: middle;\n    }\n\n    .dataframe tbody tr th {\n        vertical-align: top;\n    }\n\n    .dataframe thead th {\n        text-align: right;\n    }\n</style>\n<table border=\"1\" class=\"dataframe\">\n  <thead>\n    <tr style=\"text-align: right;\">\n      <th></th>\n      <th>date</th>\n      <th>item</th>\n      <th>value</th>\n    </tr>\n  </thead>\n  <tbody>\n    <tr>\n      <th>0</th>\n      <td>1959-03-31 23:59:59.999999999</td>\n      <td>realgdp</td>\n      <td>2710.349</td>\n    </tr>\n    <tr>\n      <th>1</th>\n      <td>1959-03-31 23:59:59.999999999</td>\n      <td>infl</td>\n      <td>0.000</td>\n    </tr>\n    <tr>\n      <th>2</th>\n      <td>1959-03-31 23:59:59.999999999</td>\n      <td>unemp</td>\n      <td>5.800</td>\n    </tr>\n    <tr>\n      <th>3</th>\n      <td>1959-06-30 23:59:59.999999999</td>\n      <td>realgdp</td>\n      <td>2778.801</td>\n    </tr>\n    <tr>\n      <th>4</th>\n      <td>1959-06-30 23:59:59.999999999</td>\n      <td>infl</td>\n      <td>2.340</td>\n    </tr>\n  </tbody>\n</table>\n</div>"
     },
     "execution_count": 27,
     "metadata": {},
     "output_type": "execute_result"
    }
   ],
   "source": [
    "ldata.head()"
   ],
   "metadata": {
    "collapsed": false
   }
  },
  {
   "cell_type": "code",
   "execution_count": 31,
   "outputs": [],
   "source": [
    "pivoted = ldata.pivot('date', 'item', 'value') # First two columns: row and column index; the last one is an optional value column to fill the DataFrame"
   ],
   "metadata": {
    "collapsed": false
   }
  },
  {
   "cell_type": "code",
   "execution_count": 33,
   "outputs": [
    {
     "data": {
      "text/plain": "item                           infl    realgdp  unemp\ndate                                                 \n1959-03-31 23:59:59.999999999  0.00   2710.349    5.8\n1959-06-30 23:59:59.999999999  2.34   2778.801    5.1\n1959-09-30 23:59:59.999999999  2.74   2775.488    5.3\n1959-12-31 23:59:59.999999999  0.27   2785.204    5.6\n1960-03-31 23:59:59.999999999  2.31   2847.699    5.2\n...                             ...        ...    ...\n2008-09-30 23:59:59.999999999 -3.16  13324.600    6.0\n2008-12-31 23:59:59.999999999 -8.79  13141.920    6.9\n2009-03-31 23:59:59.999999999  0.94  12925.410    8.1\n2009-06-30 23:59:59.999999999  3.37  12901.504    9.2\n2009-09-30 23:59:59.999999999  3.56  12990.341    9.6\n\n[203 rows x 3 columns]",
      "text/html": "<div>\n<style scoped>\n    .dataframe tbody tr th:only-of-type {\n        vertical-align: middle;\n    }\n\n    .dataframe tbody tr th {\n        vertical-align: top;\n    }\n\n    .dataframe thead th {\n        text-align: right;\n    }\n</style>\n<table border=\"1\" class=\"dataframe\">\n  <thead>\n    <tr style=\"text-align: right;\">\n      <th>item</th>\n      <th>infl</th>\n      <th>realgdp</th>\n      <th>unemp</th>\n    </tr>\n    <tr>\n      <th>date</th>\n      <th></th>\n      <th></th>\n      <th></th>\n    </tr>\n  </thead>\n  <tbody>\n    <tr>\n      <th>1959-03-31 23:59:59.999999999</th>\n      <td>0.00</td>\n      <td>2710.349</td>\n      <td>5.8</td>\n    </tr>\n    <tr>\n      <th>1959-06-30 23:59:59.999999999</th>\n      <td>2.34</td>\n      <td>2778.801</td>\n      <td>5.1</td>\n    </tr>\n    <tr>\n      <th>1959-09-30 23:59:59.999999999</th>\n      <td>2.74</td>\n      <td>2775.488</td>\n      <td>5.3</td>\n    </tr>\n    <tr>\n      <th>1959-12-31 23:59:59.999999999</th>\n      <td>0.27</td>\n      <td>2785.204</td>\n      <td>5.6</td>\n    </tr>\n    <tr>\n      <th>1960-03-31 23:59:59.999999999</th>\n      <td>2.31</td>\n      <td>2847.699</td>\n      <td>5.2</td>\n    </tr>\n    <tr>\n      <th>...</th>\n      <td>...</td>\n      <td>...</td>\n      <td>...</td>\n    </tr>\n    <tr>\n      <th>2008-09-30 23:59:59.999999999</th>\n      <td>-3.16</td>\n      <td>13324.600</td>\n      <td>6.0</td>\n    </tr>\n    <tr>\n      <th>2008-12-31 23:59:59.999999999</th>\n      <td>-8.79</td>\n      <td>13141.920</td>\n      <td>6.9</td>\n    </tr>\n    <tr>\n      <th>2009-03-31 23:59:59.999999999</th>\n      <td>0.94</td>\n      <td>12925.410</td>\n      <td>8.1</td>\n    </tr>\n    <tr>\n      <th>2009-06-30 23:59:59.999999999</th>\n      <td>3.37</td>\n      <td>12901.504</td>\n      <td>9.2</td>\n    </tr>\n    <tr>\n      <th>2009-09-30 23:59:59.999999999</th>\n      <td>3.56</td>\n      <td>12990.341</td>\n      <td>9.6</td>\n    </tr>\n  </tbody>\n</table>\n<p>203 rows × 3 columns</p>\n</div>"
     },
     "execution_count": 33,
     "metadata": {},
     "output_type": "execute_result"
    }
   ],
   "source": [
    "pivoted"
   ],
   "metadata": {
    "collapsed": false
   }
  },
  {
   "cell_type": "code",
   "execution_count": 37,
   "outputs": [
    {
     "data": {
      "text/plain": "                                           value\ndate                          item              \n1959-03-31 23:59:59.999999999 realgdp   2710.349\n                              infl         0.000\n                              unemp        5.800\n1959-06-30 23:59:59.999999999 realgdp   2778.801\n                              infl         2.340\n...                                          ...\n2009-06-30 23:59:59.999999999 infl         3.370\n                              unemp        9.200\n2009-09-30 23:59:59.999999999 realgdp  12990.341\n                              infl         3.560\n                              unemp        9.600\n\n[609 rows x 1 columns]",
      "text/html": "<div>\n<style scoped>\n    .dataframe tbody tr th:only-of-type {\n        vertical-align: middle;\n    }\n\n    .dataframe tbody tr th {\n        vertical-align: top;\n    }\n\n    .dataframe thead th {\n        text-align: right;\n    }\n</style>\n<table border=\"1\" class=\"dataframe\">\n  <thead>\n    <tr style=\"text-align: right;\">\n      <th></th>\n      <th></th>\n      <th>value</th>\n    </tr>\n    <tr>\n      <th>date</th>\n      <th>item</th>\n      <th></th>\n    </tr>\n  </thead>\n  <tbody>\n    <tr>\n      <th rowspan=\"3\" valign=\"top\">1959-03-31 23:59:59.999999999</th>\n      <th>realgdp</th>\n      <td>2710.349</td>\n    </tr>\n    <tr>\n      <th>infl</th>\n      <td>0.000</td>\n    </tr>\n    <tr>\n      <th>unemp</th>\n      <td>5.800</td>\n    </tr>\n    <tr>\n      <th rowspan=\"2\" valign=\"top\">1959-06-30 23:59:59.999999999</th>\n      <th>realgdp</th>\n      <td>2778.801</td>\n    </tr>\n    <tr>\n      <th>infl</th>\n      <td>2.340</td>\n    </tr>\n    <tr>\n      <th>...</th>\n      <th>...</th>\n      <td>...</td>\n    </tr>\n    <tr>\n      <th rowspan=\"2\" valign=\"top\">2009-06-30 23:59:59.999999999</th>\n      <th>infl</th>\n      <td>3.370</td>\n    </tr>\n    <tr>\n      <th>unemp</th>\n      <td>9.200</td>\n    </tr>\n    <tr>\n      <th rowspan=\"3\" valign=\"top\">2009-09-30 23:59:59.999999999</th>\n      <th>realgdp</th>\n      <td>12990.341</td>\n    </tr>\n    <tr>\n      <th>infl</th>\n      <td>3.560</td>\n    </tr>\n    <tr>\n      <th>unemp</th>\n      <td>9.600</td>\n    </tr>\n  </tbody>\n</table>\n<p>609 rows × 1 columns</p>\n</div>"
     },
     "execution_count": 37,
     "metadata": {},
     "output_type": "execute_result"
    }
   ],
   "source": [
    "ldata.set_index(['date', 'item'])"
   ],
   "metadata": {
    "collapsed": false
   }
  },
  {
   "cell_type": "code",
   "execution_count": 38,
   "outputs": [
    {
     "data": {
      "text/plain": "                              value                 \nitem                           infl    realgdp unemp\ndate                                                \n1959-03-31 23:59:59.999999999  0.00   2710.349   5.8\n1959-06-30 23:59:59.999999999  2.34   2778.801   5.1\n1959-09-30 23:59:59.999999999  2.74   2775.488   5.3\n1959-12-31 23:59:59.999999999  0.27   2785.204   5.6\n1960-03-31 23:59:59.999999999  2.31   2847.699   5.2\n...                             ...        ...   ...\n2008-09-30 23:59:59.999999999 -3.16  13324.600   6.0\n2008-12-31 23:59:59.999999999 -8.79  13141.920   6.9\n2009-03-31 23:59:59.999999999  0.94  12925.410   8.1\n2009-06-30 23:59:59.999999999  3.37  12901.504   9.2\n2009-09-30 23:59:59.999999999  3.56  12990.341   9.6\n\n[203 rows x 3 columns]",
      "text/html": "<div>\n<style scoped>\n    .dataframe tbody tr th:only-of-type {\n        vertical-align: middle;\n    }\n\n    .dataframe tbody tr th {\n        vertical-align: top;\n    }\n\n    .dataframe thead tr th {\n        text-align: left;\n    }\n\n    .dataframe thead tr:last-of-type th {\n        text-align: right;\n    }\n</style>\n<table border=\"1\" class=\"dataframe\">\n  <thead>\n    <tr>\n      <th></th>\n      <th colspan=\"3\" halign=\"left\">value</th>\n    </tr>\n    <tr>\n      <th>item</th>\n      <th>infl</th>\n      <th>realgdp</th>\n      <th>unemp</th>\n    </tr>\n    <tr>\n      <th>date</th>\n      <th></th>\n      <th></th>\n      <th></th>\n    </tr>\n  </thead>\n  <tbody>\n    <tr>\n      <th>1959-03-31 23:59:59.999999999</th>\n      <td>0.00</td>\n      <td>2710.349</td>\n      <td>5.8</td>\n    </tr>\n    <tr>\n      <th>1959-06-30 23:59:59.999999999</th>\n      <td>2.34</td>\n      <td>2778.801</td>\n      <td>5.1</td>\n    </tr>\n    <tr>\n      <th>1959-09-30 23:59:59.999999999</th>\n      <td>2.74</td>\n      <td>2775.488</td>\n      <td>5.3</td>\n    </tr>\n    <tr>\n      <th>1959-12-31 23:59:59.999999999</th>\n      <td>0.27</td>\n      <td>2785.204</td>\n      <td>5.6</td>\n    </tr>\n    <tr>\n      <th>1960-03-31 23:59:59.999999999</th>\n      <td>2.31</td>\n      <td>2847.699</td>\n      <td>5.2</td>\n    </tr>\n    <tr>\n      <th>...</th>\n      <td>...</td>\n      <td>...</td>\n      <td>...</td>\n    </tr>\n    <tr>\n      <th>2008-09-30 23:59:59.999999999</th>\n      <td>-3.16</td>\n      <td>13324.600</td>\n      <td>6.0</td>\n    </tr>\n    <tr>\n      <th>2008-12-31 23:59:59.999999999</th>\n      <td>-8.79</td>\n      <td>13141.920</td>\n      <td>6.9</td>\n    </tr>\n    <tr>\n      <th>2009-03-31 23:59:59.999999999</th>\n      <td>0.94</td>\n      <td>12925.410</td>\n      <td>8.1</td>\n    </tr>\n    <tr>\n      <th>2009-06-30 23:59:59.999999999</th>\n      <td>3.37</td>\n      <td>12901.504</td>\n      <td>9.2</td>\n    </tr>\n    <tr>\n      <th>2009-09-30 23:59:59.999999999</th>\n      <td>3.56</td>\n      <td>12990.341</td>\n      <td>9.6</td>\n    </tr>\n  </tbody>\n</table>\n<p>203 rows × 3 columns</p>\n</div>"
     },
     "execution_count": 38,
     "metadata": {},
     "output_type": "execute_result"
    }
   ],
   "source": [
    "ldata.set_index(['date', 'item']).unstack('item') # This is equivalent to 'pivot'"
   ],
   "metadata": {
    "collapsed": false
   }
  }
 ],
 "metadata": {
  "kernelspec": {
   "display_name": "Python 3",
   "language": "python",
   "name": "python3"
  },
  "language_info": {
   "codemirror_mode": {
    "name": "ipython",
    "version": 2
   },
   "file_extension": ".py",
   "mimetype": "text/x-python",
   "name": "python",
   "nbconvert_exporter": "python",
   "pygments_lexer": "ipython2",
   "version": "2.7.6"
  }
 },
 "nbformat": 4,
 "nbformat_minor": 0
}
