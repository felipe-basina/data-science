{
 "cells": [
  {
   "cell_type": "code",
   "execution_count": 1,
   "metadata": {
    "collapsed": true
   },
   "outputs": [],
   "source": [
    "import numpy as np"
   ]
  },
  {
   "cell_type": "code",
   "execution_count": 2,
   "outputs": [],
   "source": [
    "arr = np.arange(12).reshape((3,4))"
   ],
   "metadata": {
    "collapsed": false
   }
  },
  {
   "cell_type": "code",
   "execution_count": 3,
   "outputs": [
    {
     "data": {
      "text/plain": "array([[ 0,  1,  2,  3],\n       [ 4,  5,  6,  7],\n       [ 8,  9, 10, 11]])"
     },
     "execution_count": 3,
     "metadata": {},
     "output_type": "execute_result"
    }
   ],
   "source": [
    "arr"
   ],
   "metadata": {
    "collapsed": false
   }
  },
  {
   "cell_type": "code",
   "execution_count": 4,
   "outputs": [],
   "source": [
    "arr_con1 = np.concatenate([arr, arr], axis=1)"
   ],
   "metadata": {
    "collapsed": false
   }
  },
  {
   "cell_type": "code",
   "execution_count": 5,
   "outputs": [
    {
     "data": {
      "text/plain": "array([[ 0,  1,  2,  3,  0,  1,  2,  3],\n       [ 4,  5,  6,  7,  4,  5,  6,  7],\n       [ 8,  9, 10, 11,  8,  9, 10, 11]])"
     },
     "execution_count": 5,
     "metadata": {},
     "output_type": "execute_result"
    }
   ],
   "source": [
    "arr_con1"
   ],
   "metadata": {
    "collapsed": false
   }
  },
  {
   "cell_type": "code",
   "execution_count": 6,
   "outputs": [],
   "source": [
    "arr_con2 = np.concatenate([arr, arr])"
   ],
   "metadata": {
    "collapsed": false
   }
  },
  {
   "cell_type": "code",
   "execution_count": 7,
   "outputs": [
    {
     "data": {
      "text/plain": "array([[ 0,  1,  2,  3],\n       [ 4,  5,  6,  7],\n       [ 8,  9, 10, 11],\n       [ 0,  1,  2,  3],\n       [ 4,  5,  6,  7],\n       [ 8,  9, 10, 11]])"
     },
     "execution_count": 7,
     "metadata": {},
     "output_type": "execute_result"
    }
   ],
   "source": [
    "arr_con2"
   ],
   "metadata": {
    "collapsed": false
   }
  },
  {
   "cell_type": "code",
   "execution_count": 8,
   "outputs": [],
   "source": [
    "import pandas as pd"
   ],
   "metadata": {
    "collapsed": false
   }
  },
  {
   "cell_type": "code",
   "execution_count": 9,
   "outputs": [],
   "source": [
    "df1 = pd.DataFrame(np.random.randn(3, 4), columns=['a', 'b', 'c', 'd'])"
   ],
   "metadata": {
    "collapsed": false
   }
  },
  {
   "cell_type": "code",
   "execution_count": 10,
   "outputs": [
    {
     "data": {
      "text/plain": "          a         b         c         d\n0  0.804507 -0.750605 -1.689265  0.055414\n1 -0.788530 -2.092272  0.153200 -1.433101\n2 -0.283484 -0.718330  1.049392 -0.035094",
      "text/html": "<div>\n<style scoped>\n    .dataframe tbody tr th:only-of-type {\n        vertical-align: middle;\n    }\n\n    .dataframe tbody tr th {\n        vertical-align: top;\n    }\n\n    .dataframe thead th {\n        text-align: right;\n    }\n</style>\n<table border=\"1\" class=\"dataframe\">\n  <thead>\n    <tr style=\"text-align: right;\">\n      <th></th>\n      <th>a</th>\n      <th>b</th>\n      <th>c</th>\n      <th>d</th>\n    </tr>\n  </thead>\n  <tbody>\n    <tr>\n      <th>0</th>\n      <td>0.804507</td>\n      <td>-0.750605</td>\n      <td>-1.689265</td>\n      <td>0.055414</td>\n    </tr>\n    <tr>\n      <th>1</th>\n      <td>-0.788530</td>\n      <td>-2.092272</td>\n      <td>0.153200</td>\n      <td>-1.433101</td>\n    </tr>\n    <tr>\n      <th>2</th>\n      <td>-0.283484</td>\n      <td>-0.718330</td>\n      <td>1.049392</td>\n      <td>-0.035094</td>\n    </tr>\n  </tbody>\n</table>\n</div>"
     },
     "execution_count": 10,
     "metadata": {},
     "output_type": "execute_result"
    }
   ],
   "source": [
    "df1"
   ],
   "metadata": {
    "collapsed": false
   }
  },
  {
   "cell_type": "code",
   "execution_count": 11,
   "outputs": [],
   "source": [
    "df2 = pd.DataFrame(np.random.randn(2, 3), columns=['b', 'd', 'a'])"
   ],
   "metadata": {
    "collapsed": false
   }
  },
  {
   "cell_type": "code",
   "execution_count": 12,
   "outputs": [
    {
     "data": {
      "text/plain": "          b         d         a\n0 -0.892189  0.510108 -0.819327\n1 -1.110872  0.611648 -0.825834",
      "text/html": "<div>\n<style scoped>\n    .dataframe tbody tr th:only-of-type {\n        vertical-align: middle;\n    }\n\n    .dataframe tbody tr th {\n        vertical-align: top;\n    }\n\n    .dataframe thead th {\n        text-align: right;\n    }\n</style>\n<table border=\"1\" class=\"dataframe\">\n  <thead>\n    <tr style=\"text-align: right;\">\n      <th></th>\n      <th>b</th>\n      <th>d</th>\n      <th>a</th>\n    </tr>\n  </thead>\n  <tbody>\n    <tr>\n      <th>0</th>\n      <td>-0.892189</td>\n      <td>0.510108</td>\n      <td>-0.819327</td>\n    </tr>\n    <tr>\n      <th>1</th>\n      <td>-1.110872</td>\n      <td>0.611648</td>\n      <td>-0.825834</td>\n    </tr>\n  </tbody>\n</table>\n</div>"
     },
     "execution_count": 12,
     "metadata": {},
     "output_type": "execute_result"
    }
   ],
   "source": [
    "df2"
   ],
   "metadata": {
    "collapsed": false
   }
  },
  {
   "cell_type": "code",
   "execution_count": 13,
   "outputs": [],
   "source": [
    "arr_con3 = pd.concat([df1, df2], ignore_index=True)"
   ],
   "metadata": {
    "collapsed": false
   }
  },
  {
   "cell_type": "code",
   "execution_count": 14,
   "outputs": [
    {
     "data": {
      "text/plain": "          a         b         c         d\n0  0.804507 -0.750605 -1.689265  0.055414\n1 -0.788530 -2.092272  0.153200 -1.433101\n2 -0.283484 -0.718330  1.049392 -0.035094\n3 -0.819327 -0.892189       NaN  0.510108\n4 -0.825834 -1.110872       NaN  0.611648",
      "text/html": "<div>\n<style scoped>\n    .dataframe tbody tr th:only-of-type {\n        vertical-align: middle;\n    }\n\n    .dataframe tbody tr th {\n        vertical-align: top;\n    }\n\n    .dataframe thead th {\n        text-align: right;\n    }\n</style>\n<table border=\"1\" class=\"dataframe\">\n  <thead>\n    <tr style=\"text-align: right;\">\n      <th></th>\n      <th>a</th>\n      <th>b</th>\n      <th>c</th>\n      <th>d</th>\n    </tr>\n  </thead>\n  <tbody>\n    <tr>\n      <th>0</th>\n      <td>0.804507</td>\n      <td>-0.750605</td>\n      <td>-1.689265</td>\n      <td>0.055414</td>\n    </tr>\n    <tr>\n      <th>1</th>\n      <td>-0.788530</td>\n      <td>-2.092272</td>\n      <td>0.153200</td>\n      <td>-1.433101</td>\n    </tr>\n    <tr>\n      <th>2</th>\n      <td>-0.283484</td>\n      <td>-0.718330</td>\n      <td>1.049392</td>\n      <td>-0.035094</td>\n    </tr>\n    <tr>\n      <th>3</th>\n      <td>-0.819327</td>\n      <td>-0.892189</td>\n      <td>NaN</td>\n      <td>0.510108</td>\n    </tr>\n    <tr>\n      <th>4</th>\n      <td>-0.825834</td>\n      <td>-1.110872</td>\n      <td>NaN</td>\n      <td>0.611648</td>\n    </tr>\n  </tbody>\n</table>\n</div>"
     },
     "execution_count": 14,
     "metadata": {},
     "output_type": "execute_result"
    }
   ],
   "source": [
    "arr_con3"
   ],
   "metadata": {
    "collapsed": false
   }
  },
  {
   "cell_type": "code",
   "execution_count": 15,
   "outputs": [],
   "source": [
    "arr_con4 = pd.concat([df1, df2])"
   ],
   "metadata": {
    "collapsed": false
   }
  },
  {
   "cell_type": "code",
   "execution_count": 16,
   "outputs": [
    {
     "data": {
      "text/plain": "          a         b         c         d\n0  0.804507 -0.750605 -1.689265  0.055414\n1 -0.788530 -2.092272  0.153200 -1.433101\n2 -0.283484 -0.718330  1.049392 -0.035094\n0 -0.819327 -0.892189       NaN  0.510108\n1 -0.825834 -1.110872       NaN  0.611648",
      "text/html": "<div>\n<style scoped>\n    .dataframe tbody tr th:only-of-type {\n        vertical-align: middle;\n    }\n\n    .dataframe tbody tr th {\n        vertical-align: top;\n    }\n\n    .dataframe thead th {\n        text-align: right;\n    }\n</style>\n<table border=\"1\" class=\"dataframe\">\n  <thead>\n    <tr style=\"text-align: right;\">\n      <th></th>\n      <th>a</th>\n      <th>b</th>\n      <th>c</th>\n      <th>d</th>\n    </tr>\n  </thead>\n  <tbody>\n    <tr>\n      <th>0</th>\n      <td>0.804507</td>\n      <td>-0.750605</td>\n      <td>-1.689265</td>\n      <td>0.055414</td>\n    </tr>\n    <tr>\n      <th>1</th>\n      <td>-0.788530</td>\n      <td>-2.092272</td>\n      <td>0.153200</td>\n      <td>-1.433101</td>\n    </tr>\n    <tr>\n      <th>2</th>\n      <td>-0.283484</td>\n      <td>-0.718330</td>\n      <td>1.049392</td>\n      <td>-0.035094</td>\n    </tr>\n    <tr>\n      <th>0</th>\n      <td>-0.819327</td>\n      <td>-0.892189</td>\n      <td>NaN</td>\n      <td>0.510108</td>\n    </tr>\n    <tr>\n      <th>1</th>\n      <td>-0.825834</td>\n      <td>-1.110872</td>\n      <td>NaN</td>\n      <td>0.611648</td>\n    </tr>\n  </tbody>\n</table>\n</div>"
     },
     "execution_count": 16,
     "metadata": {},
     "output_type": "execute_result"
    }
   ],
   "source": [
    "arr_con4"
   ],
   "metadata": {
    "collapsed": false
   }
  },
  {
   "cell_type": "code",
   "execution_count": null,
   "outputs": [],
   "source": [],
   "metadata": {
    "collapsed": false
   }
  }
 ],
 "metadata": {
  "kernelspec": {
   "display_name": "Python 3",
   "language": "python",
   "name": "python3"
  },
  "language_info": {
   "codemirror_mode": {
    "name": "ipython",
    "version": 2
   },
   "file_extension": ".py",
   "mimetype": "text/x-python",
   "name": "python",
   "nbconvert_exporter": "python",
   "pygments_lexer": "ipython2",
   "version": "2.7.6"
  }
 },
 "nbformat": 4,
 "nbformat_minor": 0
}
